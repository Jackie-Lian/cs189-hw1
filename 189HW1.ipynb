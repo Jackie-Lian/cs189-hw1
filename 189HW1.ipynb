{
  "nbformat": 4,
  "nbformat_minor": 0,
  "metadata": {
    "colab": {
      "provenance": [],
      "toc_visible": true
    },
    "kernelspec": {
      "name": "python3",
      "display_name": "Python 3"
    },
    "language_info": {
      "name": "python"
    }
  },
  "cells": [
    {
      "cell_type": "code",
      "source": [
        "from google.colab import drive\n",
        "drive.mount('/content/gdrive')\n",
        "!unzip -q \"/content/gdrive/My Drive/Sophomore/hw1.zip\""
      ],
      "metadata": {
        "id": "3vSeVc_sHVn-",
        "colab": {
          "base_uri": "https://localhost:8080/"
        },
        "outputId": "29d40441-bbbe-4118-c6a1-66a4cd4cf7f9"
      },
      "execution_count": 1,
      "outputs": [
        {
          "output_type": "stream",
          "name": "stdout",
          "text": [
            "Mounted at /content/gdrive\n"
          ]
        }
      ]
    },
    {
      "cell_type": "code",
      "source": [
        "cd hw1"
      ],
      "metadata": {
        "colab": {
          "base_uri": "https://localhost:8080/"
        },
        "id": "JLd0P7b0KY2z",
        "outputId": "b2197276-91f5-407d-e88e-da1b0e38651c"
      },
      "execution_count": 2,
      "outputs": [
        {
          "output_type": "stream",
          "name": "stdout",
          "text": [
            "/content/hw1\n"
          ]
        }
      ]
    },
    {
      "cell_type": "code",
      "source": [
        "cd scripts"
      ],
      "metadata": {
        "colab": {
          "base_uri": "https://localhost:8080/"
        },
        "id": "q8omKqZAK0vq",
        "outputId": "21807eca-b3da-498a-b84a-3968eb85f80c"
      },
      "execution_count": 3,
      "outputs": [
        {
          "output_type": "stream",
          "name": "stdout",
          "text": [
            "/content/hw1/scripts\n"
          ]
        }
      ]
    },
    {
      "cell_type": "code",
      "source": [
        "import sys\n",
        "if sys.version_info[0] < 3:\n",
        "    raise Exception(\"Python 3 not detected.\")\n",
        "import numpy as np\n",
        "import matplotlib.pyplot as plt\n",
        "from sklearn import svm\n",
        "from sklearn import metrics\n",
        "from scipy import io\n",
        "\n",
        "\n",
        "for data_name in [\"mnist\", \"spam\", \"cifar10\"]:\n",
        "  data = np.load(f\"../data/{data_name}-data.npz\")\n",
        "  print(\"\\nloaded %s data!\" % data_name)\n",
        "  fields = \"test_data\", \"training_data\", \"training_labels\"\n",
        "  for field in fields:\n",
        "    print(field, data[field].shape)"
      ],
      "metadata": {
        "id": "GbDeCRCDK7i0",
        "colab": {
          "base_uri": "https://localhost:8080/"
        },
        "outputId": "c022f7f1-9aba-480e-bf4d-4bea87cb9c33"
      },
      "execution_count": 35,
      "outputs": [
        {
          "output_type": "stream",
          "name": "stdout",
          "text": [
            "\n",
            "loaded mnist data!\n",
            "test_data (10000, 1, 28, 28)\n",
            "training_data (60000, 1, 28, 28)\n",
            "training_labels (60000,)\n",
            "\n",
            "loaded spam data!\n",
            "test_data (1000, 57)\n",
            "training_data (4172, 57)\n",
            "training_labels (4172,)\n",
            "\n",
            "loaded cifar10 data!\n",
            "test_data (10000, 3072)\n",
            "training_data (50000, 3072)\n",
            "training_labels (50000,)\n"
          ]
        }
      ]
    },
    {
      "cell_type": "code",
      "source": [
        "def shuffle_and_partition(data, labels, val_size):\n",
        "  data_size = len(data)\n",
        "  if val_size < 1.0:\n",
        "    val_size = int(data_size * val_size)\n",
        "  training_size = data_size - val_size\n",
        "  np.random.seed(42)\n",
        "  index_perm = np.random.permutation(data_size)\n",
        "  train_index = index_perm[:training_size]\n",
        "  val_index= index_perm[training_size:]\n",
        "  train_pts = data[train_index]\n",
        "  train_labels = labels[train_index]\n",
        "  val_pts = data[val_index]\n",
        "  val_labels = labels[val_index]\n",
        "\n",
        "  return train_pts, train_labels, val_pts, val_labels\n"
      ],
      "metadata": {
        "id": "SM4KAhMuLrRX"
      },
      "execution_count": 53,
      "outputs": []
    },
    {
      "cell_type": "code",
      "source": [
        "mnist = np.load(f\"../data/mnist-data.npz\")\n",
        "spam = np.load(f\"../data/spam-data.npz\")\n",
        "cifar10 = np.load(f\"../data/cifar10-data.npz\")\n",
        "mnist"
      ],
      "metadata": {
        "colab": {
          "base_uri": "https://localhost:8080/"
        },
        "id": "DalxK7JNWtTG",
        "outputId": "0baf40bb-5dc2-46d6-f598-059fdc3b1576"
      },
      "execution_count": 54,
      "outputs": [
        {
          "output_type": "execute_result",
          "data": {
            "text/plain": [
              "<numpy.lib.npyio.NpzFile at 0x7fabd59092b0>"
            ]
          },
          "metadata": {},
          "execution_count": 54
        }
      ]
    },
    {
      "cell_type": "code",
      "source": [
        "mnist_train_features, mnist_train_labels, mnist_val_features, mnist_val_labels = shuffle_and_partition(\n",
        "    mnist[\"training_data\"], mnist[\"training_labels\"], 10000)"
      ],
      "metadata": {
        "id": "iTD849HlWMXV"
      },
      "execution_count": 56,
      "outputs": []
    },
    {
      "cell_type": "code",
      "source": [
        "spam_train_features, spam_train_labels, spam_val_features, spam_val_labels = shuffle_and_partition(\n",
        "    spam[\"training_data\"], spam[\"training_labels\"], 0.20)"
      ],
      "metadata": {
        "id": "z-LJ6cjvWdSC"
      },
      "execution_count": 57,
      "outputs": []
    },
    {
      "cell_type": "code",
      "source": [
        "cifar10_train_features, cifar10_train_labels, cifar10_val_features, cifar10_val_labels = shuffle_and_partition(\n",
        "    cifar10[\"training_data\"], cifar10[\"training_labels\"], 5000)"
      ],
      "metadata": {
        "id": "dWSHwoI4boiC"
      },
      "execution_count": 58,
      "outputs": []
    },
    {
      "cell_type": "code",
      "source": [
        "from sklearn.metrics import accuracy_score\n"
      ],
      "metadata": {
        "id": "1Po3rteUejsq"
      },
      "execution_count": 41,
      "outputs": []
    },
    {
      "cell_type": "code",
      "source": [
        "num_samples = [100, 200, 500, 1000, 2000, 5000, 10000]\n",
        "training_accuracy = []\n",
        "validation_accuracy = []\n",
        "mnist_train_features_reshaped = mnist_train_features.reshape((-1, 28*28))\n",
        "mnist_val_features_reshaped = mnist_val_features.reshape((-1, 28*28))\n",
        "for num in num_samples:\n",
        "  classifier = svm.SVC(kernel = \"linear\")\n",
        "  classifier.fit(mnist_train_features[:num].reshape((-1, 28*28)), mnist_train_labels[:num])\n",
        "  #predict labels for training set\n",
        "  mnist_train_pred_labels = classifier.predict(mnist_train_features_reshaped[:num])\n",
        "  train_score = accuracy_score(mnist_train_labels[:num], mnist_train_pred_labels)\n",
        "  training_accuracy.append(train_score)\n",
        "  #predict labels for validation set\n",
        "  mnist_val_pred_labels = classifier.predict(mnist_val_features_reshaped)\n",
        "  val_score = accuracy_score(mnist_val_labels, mnist_val_pred_labels)\n",
        "  validation_accuracy.append(val_score)\n",
        "\n",
        "training_accuracy\n",
        "validation_accuracy"
      ],
      "metadata": {
        "colab": {
          "base_uri": "https://localhost:8080/"
        },
        "id": "soFFNG0QCMTU",
        "outputId": "6978bc21-93c5-4209-ff22-3ee2e0919615"
      },
      "execution_count": 11,
      "outputs": [
        {
          "output_type": "execute_result",
          "data": {
            "text/plain": [
              "[0.7221, 0.8013, 0.8606, 0.8776, 0.897, 0.9126, 0.9216]"
            ]
          },
          "metadata": {},
          "execution_count": 11
        }
      ]
    },
    {
      "cell_type": "code",
      "source": [
        "plt.figure()\n",
        "plt.plot(num_samples, training_accuracy, label = \"Training Set\")\n",
        "plt.plot(num_samples, validation_accuracy, label = \"Validation Set\")\n",
        "plt.legend()\n",
        "plt.title(\"MNIST Training and Validation Sets Prediction Accuracy vs Number of training examples\")\n",
        "plt.xlabel(\"Number of Training Examples Used\")\n",
        "plt.ylabel(\"Accuracy\")"
      ],
      "metadata": {
        "colab": {
          "base_uri": "https://localhost:8080/",
          "height": 312
        },
        "id": "InMuSvcMGACP",
        "outputId": "97d902fd-8503-4d10-8d64-d5f05e535e28"
      },
      "execution_count": 14,
      "outputs": [
        {
          "output_type": "execute_result",
          "data": {
            "text/plain": [
              "Text(0, 0.5, 'Accuracy')"
            ]
          },
          "metadata": {},
          "execution_count": 14
        },
        {
          "output_type": "display_data",
          "data": {
            "text/plain": [
              "<Figure size 432x288 with 1 Axes>"
            ],
            "image/png": "[encoded data removed]"
          },
          "metadata": {
            "needs_background": "light"
          }
        }
      ]
    },
    {
      "cell_type": "code",
      "source": [
        "size_all = len(spam_train_features)\n",
        "num_samples = [100, 200, 500, 1000, 2000, size_all]\n",
        "training_accuracy = []\n",
        "validation_accuracy = []\n",
        "\n",
        "for num in num_samples:\n",
        "  classifier = svm.SVC(kernel = \"linear\")\n",
        "  classifier.fit(spam_train_features[:num], spam_train_labels[:num])\n",
        "  #predict labels for training set\n",
        "  spam_train_pred_labels = classifier.predict(spam_train_features[:num])\n",
        "  train_score = accuracy_score(spam_train_labels[:num], spam_train_pred_labels)\n",
        "  training_accuracy.append(train_score)\n",
        "  #predict labels for validation set\n",
        "  spam_val_pred_labels = classifier.predict(spam_val_features)\n",
        "  val_score = accuracy_score(spam_val_labels, spam_val_pred_labels)\n",
        "  validation_accuracy.append(val_score)"
      ],
      "metadata": {
        "id": "8mtkwQyWGqCn"
      },
      "execution_count": 30,
      "outputs": []
    },
    {
      "cell_type": "code",
      "source": [
        "plt.figure()\n",
        "plt.plot(num_samples, training_accuracy, label = \"Training Set\")\n",
        "plt.plot(num_samples, validation_accuracy, label = \"Validation Set\")\n",
        "plt.legend()\n",
        "plt.title(\"Spam Training and Validation Sets Prediction Accuracy vs Number of training examples\")\n",
        "plt.xlabel(\"Number of Training Examples Used\")\n",
        "plt.ylabel(\"Accuracy\")"
      ],
      "metadata": {
        "colab": {
          "base_uri": "https://localhost:8080/",
          "height": 312
        },
        "id": "cuvmzQ4jJyJu",
        "outputId": "2aac135d-35b0-4d19-e8e9-c92231099e01"
      },
      "execution_count": 33,
      "outputs": [
        {
          "output_type": "execute_result",
          "data": {
            "text/plain": [
              "Text(0, 0.5, 'Accuracy')"
            ]
          },
          "metadata": {},
          "execution_count": 33
        },
        {
          "output_type": "display_data",
          "data": {
            "text/plain": [
              "<Figure size 432x288 with 1 Axes>"
            ],
            "image/png": "[encoded data removed]"
          },
          "metadata": {
            "needs_background": "light"
          }
        }
      ]
    },
    {
      "cell_type": "code",
      "source": [
        "cifar10_train_features_reshaped = cifar10_train_features.reshape((-1, 3*32*32))\n",
        "cifar10_val_features_reshaped =cifar10_val_features.reshape((-1, 3*32*32))"
      ],
      "metadata": {
        "id": "0O18H-qZbSRH"
      },
      "execution_count": 11,
      "outputs": []
    },
    {
      "cell_type": "code",
      "source": [
        "num_samples = [100, 200, 500, 1000, 2000, 5000]\n",
        "training_accuracy = []\n",
        "validation_accuracy = []\n",
        "\n",
        "for num in num_samples:\n",
        "  classifier = svm.SVC(kernel = \"linear\")\n",
        "  classifier.fit(cifar10_train_features_reshaped[:num], cifar10_train_labels[:num])\n",
        "  #predict labels for training set\n",
        "  cifar10_train_pred_labels = classifier.predict(cifar10_train_features_reshaped[:num])\n",
        "  train_score = accuracy_score(cifar10_train_labels[:num], cifar10_train_pred_labels)\n",
        "  training_accuracy.append(train_score)\n",
        "  #predict labels for validation set\n",
        "  cifar10_val_pred_labels = classifier.predict(cifar10_val_features_reshaped)\n",
        "  val_score = accuracy_score(cifar10_val_labels, cifar10_val_pred_labels)\n",
        "  validation_accuracy.append(val_score)\n",
        "\n",
        "training_accuracy , validation_accuracy"
      ],
      "metadata": {
        "id": "qksxay9Qo46V",
        "colab": {
          "base_uri": "https://localhost:8080/"
        },
        "outputId": "fa3184da-741b-44d7-fa99-4b9b6024174d"
      },
      "execution_count": 36,
      "outputs": [
        {
          "output_type": "execute_result",
          "data": {
            "text/plain": [
              "([1.0, 1.0, 1.0, 1.0, 1.0, 1.0],\n",
              " [0.2444, 0.2596, 0.283, 0.2902, 0.309, 0.3092])"
            ]
          },
          "metadata": {},
          "execution_count": 36
        }
      ]
    },
    {
      "cell_type": "code",
      "source": [
        "plt.figure()\n",
        "plt.plot(num_samples, training_accuracy, label = \"Training Set\")\n",
        "plt.plot(num_samples, validation_accuracy, label = \"Validation Set\")\n",
        "plt.legend()\n",
        "plt.title(\"Cifar10 Training and Validation Sets Prediction Accuracy vs Number of training examples\")\n",
        "plt.xlabel(\"Number of Training Examples Used\")\n",
        "plt.ylabel(\"Accuracy\")"
      ],
      "metadata": {
        "id": "fFR3vj23laGr",
        "colab": {
          "base_uri": "https://localhost:8080/",
          "height": 312
        },
        "outputId": "995111b2-bdbe-464f-e392-cc3f41a8d142"
      },
      "execution_count": 37,
      "outputs": [
        {
          "output_type": "execute_result",
          "data": {
            "text/plain": [
              "Text(0, 0.5, 'Accuracy')"
            ]
          },
          "metadata": {},
          "execution_count": 37
        },
        {
          "output_type": "display_data",
          "data": {
            "text/plain": [
              "<Figure size 432x288 with 1 Axes>"
            ],
            "image/png": "[encoded data removed]"
          },
          "metadata": {
            "needs_background": "light"
          }
        }
      ]
    },
    {
      "cell_type": "code",
      "source": [
        "c_vals = [0.001, 0.01, 0.1, 1, 10, 100, 1000, 10000]"
      ],
      "metadata": {
        "id": "UZUaOdl3OBo7"
      },
      "execution_count": 41,
      "outputs": []
    },
    {
      "cell_type": "code",
      "source": [
        "mnist_train_10000 = mnist_train_features_reshaped[:10000]\n",
        "mnist_labels_10000 = mnist_train_labels[:10000]\n",
        "validation_accuracy = []\n",
        "for c in c_vals:\n",
        "  classifier = svm.SVC(kernel = \"linear\", C = c)\n",
        "  classifier.fit(mnist_train_10000, mnist_labels_10000)\n",
        "  pred_labels = classifier.predict(mnist_val_features_reshaped)\n",
        "  score = accuracy_score(mnist_val_labels, pred_labels)\n",
        "  validation_accuracy.append(score)\n",
        "validation_accuracy"
      ],
      "metadata": {
        "colab": {
          "base_uri": "https://localhost:8080/"
        },
        "id": "iJlrwZE5lHs9",
        "outputId": "85fa399b-14a7-4b39-9fad-0ec0146564ab"
      },
      "execution_count": 38,
      "outputs": [
        {
          "output_type": "execute_result",
          "data": {
            "text/plain": [
              "[0.905, 0.9273, 0.9303, 0.9216, 0.9148, 0.9145, 0.9145, 0.9145]"
            ]
          },
          "metadata": {},
          "execution_count": 38
        }
      ]
    },
    {
      "cell_type": "code",
      "source": [
        "plt.figure(figsize=(20, 5))\n",
        "plt.plot(c_vals, validation_accuracy)\n",
        "plt.xlabel(\"C Values\")\n",
        "plt.ylabel(\"Validation Accuracy\")"
      ],
      "metadata": {
        "colab": {
          "base_uri": "https://localhost:8080/",
          "height": 371
        },
        "id": "_LVMC8SBoFQL",
        "outputId": "4f0b279b-a397-42f2-b6f1-9c5477dd692e"
      },
      "execution_count": 40,
      "outputs": [
        {
          "output_type": "execute_result",
          "data": {
            "text/plain": [
              "Text(0, 0.5, 'Validation Accuracy')"
            ]
          },
          "metadata": {},
          "execution_count": 40
        },
        {
          "output_type": "display_data",
          "data": {
            "text/plain": [
              "<Figure size 1440x360 with 1 Axes>"
            ],
            "image/png": "[encoded data removed]"
          },
          "metadata": {
            "needs_background": "light"
          }
        }
      ]
    },
    {
      "cell_type": "code",
      "source": [
        "set_size = len(spam[\"training_data\"]) // 5\n",
        "set_size"
      ],
      "metadata": {
        "colab": {
          "base_uri": "https://localhost:8080/"
        },
        "id": "vxO9f_dktEPi",
        "outputId": "98fc4eef-f59c-47dd-af26-0a802695fabb"
      },
      "execution_count": 59,
      "outputs": [
        {
          "output_type": "execute_result",
          "data": {
            "text/plain": [
              "834"
            ]
          },
          "metadata": {},
          "execution_count": 59
        }
      ]
    },
    {
      "cell_type": "code",
      "source": [
        "spam_train = np.concatenate((spam_train_features, spam_val_features), axis = 0)\n",
        "part0_f = spam_train[:set_size]\n",
        "part1_f = spam_train[set_size : set_size*2]\n",
        "part2_f = spam_train[set_size*2 : set_size*3]\n",
        "part3_f = spam_train[set_size*3 : set_size * 4]\n",
        "part4_f = spam_train[set_size*4 : ]"
      ],
      "metadata": {
        "id": "vcQriGCFtsyX"
      },
      "execution_count": 60,
      "outputs": []
    },
    {
      "cell_type": "code",
      "source": [
        "parts_f = [part0_f, part1_f, part2_f, part3_f, part4_f]"
      ],
      "metadata": {
        "id": "nlGiUt2BLYks"
      },
      "execution_count": 14,
      "outputs": []
    },
    {
      "cell_type": "code",
      "source": [
        "spam_labels = np.concatenate((spam_train_labels, spam_val_labels), axis = None)\n",
        "part0_l = spam_labels[:set_size]\n",
        "part1_l = spam_labels[set_size : set_size*2]\n",
        "part2_l = spam_labels[set_size*2 : set_size*3]\n",
        "part3_l = spam_labels[set_size*3 : set_size * 4]\n",
        "part4_l = spam_labels[set_size*4 : ]"
      ],
      "metadata": {
        "id": "J5wZDj5zN0JS"
      },
      "execution_count": 61,
      "outputs": []
    },
    {
      "cell_type": "code",
      "source": [
        "parts_l = [part0_l, part1_l, part2_l, part3_l, part4_l]"
      ],
      "metadata": {
        "id": "dPl4xPe0PrDV"
      },
      "execution_count": 62,
      "outputs": []
    },
    {
      "cell_type": "code",
      "source": [
        "c_vals = [0.001, 0.01, 0.05, 0.1, 0.5, 1, 5, 10, 100]"
      ],
      "metadata": {
        "id": "HDtE6sBz93w6"
      },
      "execution_count": 19,
      "outputs": []
    },
    {
      "cell_type": "code",
      "source": [
        "val_accuracy_overall = []\n",
        "for c in c_vals:\n",
        "  val_accuracy_local = []\n",
        "  for i in range(5):\n",
        "    idx = list(range(5)) #idx = [0,1,2,3,4]\n",
        "    val_idx = idx.pop(i)\n",
        "    train_set = parts_f[idx[0]] #train_idx contains [1,2,3,4]\n",
        "    val_set = parts_f[val_idx]\n",
        "    train_labels = parts_l[idx[0]]\n",
        "    val_labels = parts_l[val_idx]\n",
        "    for j in range(1, 4):\n",
        "      train_set = np.concatenate((train_set, parts_f[j]), axis=0)\n",
        "      train_labels = np.concatenate((train_labels, parts_l[j]), axis=None)\n",
        "    classifier = svm.SVC(kernel = \"linear\", C = c)\n",
        "    classifier.fit(train_set, train_labels)\n",
        "    pred_labels = classifier.predict(val_set)\n",
        "    score = accuracy_score(val_labels, pred_labels)\n",
        "    val_accuracy_local.append(score)\n",
        "  val_accuracy_overall.append(np.mean(val_accuracy_local))\n"
      ],
      "metadata": {
        "id": "FOTVmuYvvejR"
      },
      "execution_count": 20,
      "outputs": []
    },
    {
      "cell_type": "code",
      "source": [
        "val_accuracy_overall"
      ],
      "metadata": {
        "colab": {
          "base_uri": "https://localhost:8080/"
        },
        "id": "LD24Lq7LRO5K",
        "outputId": "eca14229-fcb3-4a57-c537-093656908c13"
      },
      "execution_count": 21,
      "outputs": [
        {
          "output_type": "execute_result",
          "data": {
            "text/plain": [
              "[0.7495186625818964,\n",
              " 0.7778039769141624,\n",
              " 0.7914701731437817,\n",
              " 0.7967448051128475,\n",
              " 0.8022580978279578,\n",
              " 0.8024979059814349,\n",
              " 0.8027382878386286,\n",
              " 0.8034565648916272,\n",
              " 0.8034559911879109]"
            ]
          },
          "metadata": {},
          "execution_count": 21
        }
      ]
    },
    {
      "cell_type": "code",
      "source": [
        "plt.figure()\n",
        "plt.plot(c_vals, val_accuracy_overall)\n",
        "plt.xlabel(\"C Values\")\n",
        "plt.ylabel(\"Validation Accuracy\")"
      ],
      "metadata": {
        "colab": {
          "base_uri": "https://localhost:8080/",
          "height": 296
        },
        "id": "5DX6S6cONyuA",
        "outputId": "e340cb6a-1108-4904-fb04-2c3263d4c12f"
      },
      "execution_count": 22,
      "outputs": [
        {
          "output_type": "execute_result",
          "data": {
            "text/plain": [
              "Text(0, 0.5, 'Validation Accuracy')"
            ]
          },
          "metadata": {},
          "execution_count": 22
        },
        {
          "output_type": "display_data",
          "data": {
            "text/plain": [
              "<Figure size 432x288 with 1 Axes>"
            ],
            "image/png": "[encoded data removed]"
          },
          "metadata": {
            "needs_background": "light"
          }
        }
      ]
    },
    {
      "cell_type": "code",
      "source": [
        "#train model for kaggle competition\n",
        "mnist_model = svm.SVC(C = 0.1)\n",
        "mnist_model.fit(mnist[\"training_data\"].reshape((-1, 28 * 28)), mnist[\"training_labels\"])\n",
        "pred_labels = mnist_model.predict(mnist[\"test_data\"].reshape((-1, 28*28)))\n",
        "pred_labels"
      ],
      "metadata": {
        "colab": {
          "base_uri": "https://localhost:8080/"
        },
        "id": "ttPFhMakOKFe",
        "outputId": "d239bca0-0f62-476f-a804-b5d8a540446a"
      },
      "execution_count": 25,
      "outputs": [
        {
          "output_type": "execute_result",
          "data": {
            "text/plain": [
              "array([0, 6, 0, ..., 3, 2, 4])"
            ]
          },
          "metadata": {},
          "execution_count": 25
        }
      ]
    },
    {
      "cell_type": "code",
      "source": [
        "import pandas as pd\n",
        "def results_to_csv(y_test):\n",
        "    y_test = y_test.astype(int)\n",
        "    df = pd.DataFrame({'Category': y_test})\n",
        "    df.index += 1 # Ensures that the index starts at 1\n",
        "    df.to_csv('submission.csv', index_label='Id')\n"
      ],
      "metadata": {
        "id": "woS_7d2IWryp"
      },
      "execution_count": 13,
      "outputs": []
    },
    {
      "cell_type": "code",
      "source": [
        "!python featurize.py"
      ],
      "metadata": {
        "id": "u9wkm3ZQEgwr"
      },
      "execution_count": 47,
      "outputs": []
    },
    {
      "cell_type": "code",
      "source": [
        "spam_model = svm.SVC(C = 10)\n",
        "spam_model.fit(spam[\"training_data\"], spam[\"training_labels\"])\n",
        "spam_pred_labels = spam_model.predict(spam[\"test_data\"])\n",
        "spam_pred_labels"
      ],
      "metadata": {
        "id": "Jvj3ZRdDb3wX"
      },
      "execution_count": null,
      "outputs": []
    },
    {
      "cell_type": "code",
      "source": [
        "results_to_csv(spam_pred_labels)"
      ],
      "metadata": {
        "id": "S8BovE4857fb"
      },
      "execution_count": 43,
      "outputs": []
    },
    {
      "cell_type": "code",
      "source": [
        "cifar10_train_features_reshaped = cifar10_train_features.reshape((-1, 3*32*32))"
      ],
      "metadata": {
        "id": "1ZHuNyG2Rb9A"
      },
      "execution_count": 50,
      "outputs": []
    },
    {
      "cell_type": "code",
      "source": [
        "cifar_model = svm.SVC(C = 1)\n",
        "cifar_model.fit(cifar10_train_features_reshaped[:5000], cifar10_train_labels[:5000])\n",
        "cifar_pred_labels = cifar_model.predict(cifar10[\"test_data\"].reshape((-1, 3*32*32)))\n",
        "cifar_pred_labels"
      ],
      "metadata": {
        "colab": {
          "base_uri": "https://localhost:8080/"
        },
        "id": "ysUKEQLa8TzV",
        "outputId": "c0fd9e64-f44a-43e2-ca2e-e27ee0c95ba0"
      },
      "execution_count": 51,
      "outputs": [
        {
          "output_type": "execute_result",
          "data": {
            "text/plain": [
              "array([4, 8, 9, ..., 0, 2, 4])"
            ]
          },
          "metadata": {},
          "execution_count": 51
        }
      ]
    },
    {
      "cell_type": "code",
      "source": [
        "results_to_csv(cifar_pred_labels)"
      ],
      "metadata": {
        "id": "5f9-hayNNvOu"
      },
      "execution_count": 52,
      "outputs": []
    },
    {
      "cell_type": "code",
      "source": [],
      "metadata": {
        "id": "M2rnn4upSiKZ"
      },
      "execution_count": null,
      "outputs": []
    }
  ]
}